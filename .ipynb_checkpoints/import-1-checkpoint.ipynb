{
 "cells": [
  {
   "cell_type": "code",
   "execution_count": 37,
   "metadata": {
    "scrolled": true
   },
   "outputs": [
    {
     "name": "stdout",
     "output_type": "stream",
     "text": [
      "dict_keys(['Name', 'Age'])\n",
      "dict['Name']:  Zara\n",
      "dict_keys(['results', 'requestParameters'])\n"
     ]
    },
    {
     "ename": "KeyError",
     "evalue": "'results'",
     "output_type": "error",
     "traceback": [
      "\u001b[0;31m---------------------------------------------------------------------------\u001b[0m",
      "\u001b[0;31mKeyError\u001b[0m                                  Traceback (most recent call last)",
      "\u001b[0;32m<ipython-input-37-7a55c6b8d8a9>\u001b[0m in \u001b[0;36m<module>\u001b[0;34m\u001b[0m\n\u001b[1;32m     28\u001b[0m \u001b[0mprint\u001b[0m \u001b[0;34m(\u001b[0m\u001b[0mjson29Tusk\u001b[0m\u001b[0;34m[\u001b[0m\u001b[0;36m0\u001b[0m\u001b[0;34m]\u001b[0m\u001b[0;34m.\u001b[0m\u001b[0mkeys\u001b[0m\u001b[0;34m(\u001b[0m\u001b[0;34m)\u001b[0m\u001b[0;34m)\u001b[0m\u001b[0;34m\u001b[0m\u001b[0;34m\u001b[0m\u001b[0m\n\u001b[1;32m     29\u001b[0m \u001b[0;34m\u001b[0m\u001b[0m\n\u001b[0;32m---> 30\u001b[0;31m \u001b[0mprint\u001b[0m \u001b[0;34m(\u001b[0m\u001b[0;34m\"dict['results']: \"\u001b[0m\u001b[0;34m,\u001b[0m \u001b[0mdict\u001b[0m\u001b[0;34m[\u001b[0m\u001b[0;34m'results'\u001b[0m\u001b[0;34m]\u001b[0m\u001b[0;34m)\u001b[0m\u001b[0;34m\u001b[0m\u001b[0;34m\u001b[0m\u001b[0m\n\u001b[0m\u001b[1;32m     31\u001b[0m \u001b[0;34m\u001b[0m\u001b[0m\n\u001b[1;32m     32\u001b[0m \u001b[0;34m\u001b[0m\u001b[0m\n",
      "\u001b[0;31mKeyError\u001b[0m: 'results'"
     ]
    }
   ],
   "source": [
    "import pandas as pd\n",
    "import json\n",
    "from pandas.io.json import json_normalize  \n",
    "\n",
    "pd.set_option('display.max_rows', 200)\n",
    "%matplotlib inline\n",
    "\n",
    "\n",
    "twit29Article50 = '/home/jay/Downloads/sdsv/CASA0006dsss/BrexitMoon/tw/20190329Article50.json'\n",
    "twit29Tusk = '/home/jay/Downloads/sdsv/CASA0006dsss/BrexitMoon/tw/20190329Tusk.json'\n",
    "\n",
    "   \n",
    "json29Tusk = []\n",
    "for line in open(twit29Tusk, 'r'):\n",
    "    json29Tusk.append(json.loads(line))\n",
    "    \n",
    "#print (json29Tusk)\n",
    "#print (json29Tusk[0])\n",
    "type (json29Tusk[0])   # it is a dictionary\n",
    "\n",
    "\n",
    "\n",
    "\n",
    "trialDict = {'Name': 'Zara', 'Age': 7}\n",
    "print (trialDict.keys())\n",
    "print (\"dict['Name']: \", dict['Name'])\n",
    "\n",
    "print (json29Tusk[0].keys())\n",
    "print (\"dict['results']: \", dict['results'])\n",
    "\n",
    "\n",
    "\n",
    "\n",
    "\n"
   ]
  },
  {
   "cell_type": "code",
   "execution_count": null,
   "metadata": {},
   "outputs": [],
   "source": [
    "import json\n",
    "import pandas as pd\n",
    "#results is the JSON tweet data. \n",
    "\n",
    "#Define the columns you want to extract\n",
    "resultFrame = pd.DataFrame(columns=[\"username\",\"created_at\",\"tweet\"])\n",
    "print len(results)\n",
    "\n",
    "for i in range(len(results)):\n",
    "    resultFrame.loc[i,\"username\"] = results[i].user.screen_name\n",
    "    resultFrame.loc[i, \"created_at\"] = results[i].created_at\n",
    "    resultFrame.loc[i, \"tweet\"] = results[i].text\n",
    "\n",
    "print resultFrame.head()"
   ]
  }
 ],
 "metadata": {
  "kernelspec": {
   "display_name": "Python 3",
   "language": "python",
   "name": "python3"
  },
  "language_info": {
   "codemirror_mode": {
    "name": "ipython",
    "version": 3
   },
   "file_extension": ".py",
   "mimetype": "text/x-python",
   "name": "python",
   "nbconvert_exporter": "python",
   "pygments_lexer": "ipython3",
   "version": "3.6.8"
  }
 },
 "nbformat": 4,
 "nbformat_minor": 2
}
