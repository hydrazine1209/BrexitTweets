{
 "cells": [
  {
   "cell_type": "code",
   "execution_count": 38,
   "metadata": {},
   "outputs": [],
   "source": [
    "import pandas as pd\n",
    "import json\n",
    "import csv\n",
    "#from pandas.io.json import json_normalize\n",
    "from pandas.io.json import read_json\n",
    "\n",
    "pd.set_option('display.max_rows', 200)\n",
    "%matplotlib inline\n",
    "\n",
    "dataJson = open('/home/jay/Downloads/sdsv/CASA0006dsss/BrexitMoon/tw-trim-0/20140917Scotland.json', mode='r').read()\n",
    "dataPython = json.loads(dataJson)\n",
    "\n",
    "\n",
    "\n",
    "csvOut = open('buildTweets.csv', mode='w') #opens csv file\n",
    "write2csv = csv.writer(csvOut) #create the csv writer object, next line creates field titles\n",
    "jsonFields = ['TweetTime', 'Tweet', 'Location', 'FollowersCount', 'FriendsCount', 'ListedCount', 'FavouritesCount', 'StatusesCount', 'UserCreatedAt', 'Lang']\n",
    "write2csv.writerow(jsonFields) #writes field\n",
    "\n",
    "'''\n",
    "for eachLine in dataPython.get('results'):\n",
    "    try:\n",
    "        # print (eachLine.get('user').get('derived').get('locations').get('geo').get('coordinates'))\n",
    "        # print (eachLine.get('user').get('location'))\n",
    "        print (eachLine.get('user').get('derived').get('locations'))\n",
    "    except Exception:\n",
    "        print ('null')\n",
    "    #eachLine.get('place').get('bounding_box').get('coordinates')])\n",
    "    \n",
    "    #all this testing trying to get co-ordinates, I think there is a limit to .get nesting \n",
    "'''\n",
    "\n",
    "for eachLine in dataPython.get('results'):\n",
    "\n",
    "    # writes a row and gets the fields from the json object\n",
    "    # most fields are in the 'user' sub-dictionary so get twice\n",
    "    write2csv.writerow([eachLine.get('created_at'),\n",
    "                     eachLine.get('text').encode('unicode_escape'), # unicode escape to fix emoji issue\n",
    "                     eachLine.get('user').get('location'),  # unicode_escape not needed to fix Japanese text etc\n",
    "                     eachLine.get('user').get('followers_count'),\n",
    "                     eachLine.get('user').get('friends_count'),\n",
    "                     eachLine.get('user').get('listed_count'),\n",
    "                     eachLine.get('user').get('favourites_count'),\n",
    "                     eachLine.get('user').get('statuses_count'),\n",
    "                     eachLine.get('user').get('created_at'),\n",
    "                     eachLine.get('user').get('lang')])\n",
    "                     #eachLine.get('user').get('derived').get('locations').get('geo').get('coordinates'),\n",
    "                     #eachLine.get('place').get('bounding_box').get('coordinates')])\n",
    "\n",
    "csvOut.close()"
   ]
  },
  {
   "cell_type": "markdown",
   "metadata": {},
   "source": []
  },
  {
   "cell_type": "code",
   "execution_count": 3,
   "metadata": {},
   "outputs": [
    {
     "data": {
      "text/plain": [
       "['created_at',\n",
       " 'lang',\n",
       " 'favorite_count',\n",
       " 'reply_count',\n",
       " 'retweet_count',\n",
       " 'extended_tweet',\n",
       " 'text']"
      ]
     },
     "execution_count": 3,
     "metadata": {},
     "output_type": "execute_result"
    }
   ],
   "source": []
  }
 ],
 "metadata": {
  "kernelspec": {
   "display_name": "Python 3",
   "language": "python",
   "name": "python3"
  },
  "language_info": {
   "codemirror_mode": {
    "name": "ipython",
    "version": 3
   },
   "file_extension": ".py",
   "mimetype": "text/x-python",
   "name": "python",
   "nbconvert_exporter": "python",
   "pygments_lexer": "ipython3",
   "version": "3.6.8"
  }
 },
 "nbformat": 4,
 "nbformat_minor": 2
}
