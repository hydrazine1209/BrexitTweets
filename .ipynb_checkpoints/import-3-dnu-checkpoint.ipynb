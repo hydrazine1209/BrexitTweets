{
 "cells": [
  {
   "cell_type": "code",
   "execution_count": 7,
   "metadata": {},
   "outputs": [
    {
     "ename": "SyntaxError",
     "evalue": "invalid syntax (<ipython-input-7-ebbe174125a8>, line 25)",
     "output_type": "error",
     "traceback": [
      "\u001b[0;36m  File \u001b[0;32m\"<ipython-input-7-ebbe174125a8>\"\u001b[0;36m, line \u001b[0;32m25\u001b[0m\n\u001b[0;31m    print len(results)\u001b[0m\n\u001b[0m            ^\u001b[0m\n\u001b[0;31mSyntaxError\u001b[0m\u001b[0;31m:\u001b[0m invalid syntax\n"
     ]
    }
   ],
   "source": [
    "import pandas as pd\n",
    "import json\n",
    "from pandas.io.json import json_normalize  \n",
    "\n",
    "pd.set_option('display.max_rows', 200)\n",
    "%matplotlib inline\n",
    "\n",
    "\n",
    "twit29Article50 = '/home/jay/Downloads/sdsv/CASA0006dsss/BrexitMoon/tw/20190329Article50.json'\n",
    "twit29Tusk = '/home/jay/Downloads/sdsv/CASA0006dsss/BrexitMoon/tw/20190329Tusk.json'\n",
    "\n",
    "   \n",
    "json29Tusk = []\n",
    "for line in open(twit29Tusk, 'r'):\n",
    "    json29Tusk.append(json.loads(line))\n",
    "    \n",
    "print (json29Tusk)\n",
    "#print (json29Tusk[0])\n",
    "\n",
    "singleTuskTweet = json29Tusk[0]\n",
    "type (json29Tusk)\n",
    "type (singleTuskTweet)   # it is a dictionary\n",
    "\n",
    "'''\n",
    "resultFrame = pd.DataFrame(columns=[\"username\",\"created_at\",\"tweet\"])\n",
    "print len(results)\n",
    "\n",
    "for i in range(len(json29Tusk)):\n",
    "    resultFrame.loc[i,\"username\"] = results[i].user.screen_name\n",
    "    resultFrame.loc[i, \"created_at\"] = results[i].created_at\n",
    "    resultFrame.loc[i, \"tweet\"] = results[i].text\n",
    "'''"
   ]
  }
 ],
 "metadata": {
  "kernelspec": {
   "display_name": "Python 3",
   "language": "python",
   "name": "python3"
  },
  "language_info": {
   "codemirror_mode": {
    "name": "ipython",
    "version": 3
   },
   "file_extension": ".py",
   "mimetype": "text/x-python",
   "name": "python",
   "nbconvert_exporter": "python",
   "pygments_lexer": "ipython3",
   "version": "3.6.8"
  }
 },
 "nbformat": 4,
 "nbformat_minor": 2
}
