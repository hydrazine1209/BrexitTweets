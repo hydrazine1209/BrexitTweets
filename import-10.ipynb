{
 "cells": [
  {
   "cell_type": "code",
   "execution_count": 8,
   "metadata": {},
   "outputs": [
    {
     "name": "stdout",
     "output_type": "stream",
     "text": [
      "Import to csv has finished.\n"
     ]
    }
   ],
   "source": [
    "import json\n",
    "import csv\n",
    "import os\n",
    "\n",
    "# set up empty csv file with column headers for each tweet's imported field\n",
    "# using less than 5% of available fields, most are empty\n",
    "csvOut = open('buildTweets-3.csv', mode='w')\n",
    "write2csv = csv.writer(csvOut)\n",
    "jsonFields = ['TweetTime', 'Tweet', 'Location', 'FollowersCount', 'FriendsCount', 'ListedCount', 'FavouritesCount', 'StatusesCount', 'UserCreatedAt', 'Lang']\n",
    "write2csv.writerow(jsonFields) \n",
    "\n",
    "tweetPath = '/home/jay/Downloads/sdsv/CASA0006dsss/BrexitMoon/tw-full/'\n",
    "\n",
    "# open each json file in the tweet download directory\n",
    "for eachFile in os.listdir(tweetPath):\n",
    "    fullPath = tweetPath + eachFile\n",
    "    dataJson = open(fullPath, mode='r').read()\n",
    "    dataPython = json.loads(dataJson)\n",
    "\n",
    "    # writes a row to csv from fields in json object, most fields are in the 'user' sub-dictionary so .get twice\n",
    "    # failed to get co-ordinates, possibly due to nested .get limit, ignored as most tweets did not have co-ords\n",
    "    for eachLine in dataPython.get('results'):\n",
    "        write2csv.writerow([eachLine.get('created_at'),\n",
    "        eachLine.get('text').encode('unicode_escape'),      # unicode_escape to fix emoji issue\n",
    "                     eachLine.get('user').get('location'),\n",
    "                     eachLine.get('user').get('followers_count'),\n",
    "                     eachLine.get('user').get('friends_count'),\n",
    "                     eachLine.get('user').get('listed_count'),\n",
    "                     eachLine.get('user').get('favourites_count'),\n",
    "                     eachLine.get('user').get('statuses_count'),\n",
    "                     eachLine.get('user').get('created_at'),\n",
    "                     eachLine.get('user').get('lang')])\n",
    "\n",
    "csvOut.close()\n",
    "\n",
    "print ('Import to csv has finished.')"
   ]
  }
 ],
 "metadata": {
  "kernelspec": {
   "display_name": "Python 3",
   "language": "python",
   "name": "python3"
  },
  "language_info": {
   "codemirror_mode": {
    "name": "ipython",
    "version": 3
   },
   "file_extension": ".py",
   "mimetype": "text/x-python",
   "name": "python",
   "nbconvert_exporter": "python",
   "pygments_lexer": "ipython3",
   "version": "3.6.8"
  }
 },
 "nbformat": 4,
 "nbformat_minor": 2
}
